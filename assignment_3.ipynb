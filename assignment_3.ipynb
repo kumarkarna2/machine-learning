{
 "cells": [
  {
   "attachments": {},
   "cell_type": "markdown",
   "metadata": {},
   "source": [
    "Q1\n",
    "Rainfall dataset"
   ]
  },
  {
   "cell_type": "code",
   "execution_count": 101,
   "metadata": {},
   "outputs": [
    {
     "name": "stdout",
     "output_type": "stream",
     "text": [
      "District with highest annual rainfall is TAMENGLONG \n",
      "\n",
      "Top 5 states with highest annual rainfall are\n"
     ]
    },
    {
     "data": {
      "text/html": [
       "<div>\n",
       "<style scoped>\n",
       "    .dataframe tbody tr th:only-of-type {\n",
       "        vertical-align: middle;\n",
       "    }\n",
       "\n",
       "    .dataframe tbody tr th {\n",
       "        vertical-align: top;\n",
       "    }\n",
       "\n",
       "    .dataframe thead th {\n",
       "        text-align: right;\n",
       "    }\n",
       "</style>\n",
       "<table border=\"1\" class=\"dataframe\">\n",
       "  <thead>\n",
       "    <tr style=\"text-align: right;\">\n",
       "      <th></th>\n",
       "      <th>STATE_UT_NAME</th>\n",
       "      <th>ANNUAL</th>\n",
       "    </tr>\n",
       "  </thead>\n",
       "  <tbody>\n",
       "    <tr>\n",
       "      <th>55</th>\n",
       "      <td>MANIPUR</td>\n",
       "      <td>7229.3</td>\n",
       "    </tr>\n",
       "    <tr>\n",
       "      <th>47</th>\n",
       "      <td>MEGHALAYA</td>\n",
       "      <td>6379.9</td>\n",
       "    </tr>\n",
       "    <tr>\n",
       "      <th>46</th>\n",
       "      <td>MEGHALAYA</td>\n",
       "      <td>6166.1</td>\n",
       "    </tr>\n",
       "    <tr>\n",
       "      <th>12</th>\n",
       "      <td>ARUNACHAL PRADESH</td>\n",
       "      <td>4402.1</td>\n",
       "    </tr>\n",
       "    <tr>\n",
       "      <th>598</th>\n",
       "      <td>KARNATAKA</td>\n",
       "      <td>4306.0</td>\n",
       "    </tr>\n",
       "  </tbody>\n",
       "</table>\n",
       "</div>"
      ],
      "text/plain": [
       "         STATE_UT_NAME  ANNUAL\n",
       "55             MANIPUR  7229.3\n",
       "47           MEGHALAYA  6379.9\n",
       "46           MEGHALAYA  6166.1\n",
       "12   ARUNACHAL PRADESH  4402.1\n",
       "598          KARNATAKA  4306.0"
      ]
     },
     "execution_count": 101,
     "metadata": {},
     "output_type": "execute_result"
    }
   ],
   "source": [
    "import numpy as np\n",
    "import pandas as pd\n",
    "\n",
    "data = pd.read_csv('dataset/district wise rainfall normal.csv')\n",
    "# data.info()\n",
    "\n",
    "\n",
    "#Check for missing values\n",
    "data.isnull().sum()\n",
    "\n",
    "#District with highest annual rainfall\n",
    "print('District with highest annual rainfall is',data['DISTRICT'][data['ANNUAL'].idxmax()],'\\n')\n",
    "\n",
    "#top states with highest annual rainfall\n",
    "top_5 = data[['STATE_UT_NAME','ANNUAL']].sort_values(by = 'ANNUAL',ascending=False,).head(5)\n",
    "print('Top 5 states with highest annual rainfall are')\n",
    "top_5"
   ]
  },
  {
   "cell_type": "code",
   "execution_count": 100,
   "metadata": {},
   "outputs": [
    {
     "name": "stdout",
     "output_type": "stream",
     "text": [
      "Data after dropping the columns which are not required\n"
     ]
    },
    {
     "data": {
      "text/html": [
       "<div>\n",
       "<style scoped>\n",
       "    .dataframe tbody tr th:only-of-type {\n",
       "        vertical-align: middle;\n",
       "    }\n",
       "\n",
       "    .dataframe tbody tr th {\n",
       "        vertical-align: top;\n",
       "    }\n",
       "\n",
       "    .dataframe thead th {\n",
       "        text-align: right;\n",
       "    }\n",
       "</style>\n",
       "<table border=\"1\" class=\"dataframe\">\n",
       "  <thead>\n",
       "    <tr style=\"text-align: right;\">\n",
       "      <th></th>\n",
       "      <th>STATE_UT_NAME</th>\n",
       "      <th>DISTRICT</th>\n",
       "      <th>JAN</th>\n",
       "      <th>FEB</th>\n",
       "      <th>MAR</th>\n",
       "      <th>APR</th>\n",
       "      <th>MAY</th>\n",
       "      <th>JUN</th>\n",
       "      <th>JUL</th>\n",
       "      <th>AUG</th>\n",
       "      <th>SEP</th>\n",
       "      <th>OCT</th>\n",
       "      <th>NOV</th>\n",
       "      <th>DEC</th>\n",
       "      <th>ANNUAL</th>\n",
       "    </tr>\n",
       "  </thead>\n",
       "  <tbody>\n",
       "    <tr>\n",
       "      <th>0</th>\n",
       "      <td>ANDAMAN And NICOBAR ISLANDS</td>\n",
       "      <td>NICOBAR</td>\n",
       "      <td>107.3</td>\n",
       "      <td>57.9</td>\n",
       "      <td>65.2</td>\n",
       "      <td>117.0</td>\n",
       "      <td>358.5</td>\n",
       "      <td>295.5</td>\n",
       "      <td>285.0</td>\n",
       "      <td>271.9</td>\n",
       "      <td>354.8</td>\n",
       "      <td>326.0</td>\n",
       "      <td>315.2</td>\n",
       "      <td>250.9</td>\n",
       "      <td>2805.2</td>\n",
       "    </tr>\n",
       "    <tr>\n",
       "      <th>1</th>\n",
       "      <td>ANDAMAN And NICOBAR ISLANDS</td>\n",
       "      <td>SOUTH ANDAMAN</td>\n",
       "      <td>43.7</td>\n",
       "      <td>26.0</td>\n",
       "      <td>18.6</td>\n",
       "      <td>90.5</td>\n",
       "      <td>374.4</td>\n",
       "      <td>457.2</td>\n",
       "      <td>421.3</td>\n",
       "      <td>423.1</td>\n",
       "      <td>455.6</td>\n",
       "      <td>301.2</td>\n",
       "      <td>275.8</td>\n",
       "      <td>128.3</td>\n",
       "      <td>3015.7</td>\n",
       "    </tr>\n",
       "    <tr>\n",
       "      <th>2</th>\n",
       "      <td>ANDAMAN And NICOBAR ISLANDS</td>\n",
       "      <td>N &amp; M ANDAMAN</td>\n",
       "      <td>32.7</td>\n",
       "      <td>15.9</td>\n",
       "      <td>8.6</td>\n",
       "      <td>53.4</td>\n",
       "      <td>343.6</td>\n",
       "      <td>503.3</td>\n",
       "      <td>465.4</td>\n",
       "      <td>460.9</td>\n",
       "      <td>454.8</td>\n",
       "      <td>276.1</td>\n",
       "      <td>198.6</td>\n",
       "      <td>100.0</td>\n",
       "      <td>2913.3</td>\n",
       "    </tr>\n",
       "    <tr>\n",
       "      <th>3</th>\n",
       "      <td>ARUNACHAL PRADESH</td>\n",
       "      <td>LOHIT</td>\n",
       "      <td>42.2</td>\n",
       "      <td>80.8</td>\n",
       "      <td>176.4</td>\n",
       "      <td>358.5</td>\n",
       "      <td>306.4</td>\n",
       "      <td>447.0</td>\n",
       "      <td>660.1</td>\n",
       "      <td>427.8</td>\n",
       "      <td>313.6</td>\n",
       "      <td>167.1</td>\n",
       "      <td>34.1</td>\n",
       "      <td>29.8</td>\n",
       "      <td>3043.8</td>\n",
       "    </tr>\n",
       "    <tr>\n",
       "      <th>4</th>\n",
       "      <td>ARUNACHAL PRADESH</td>\n",
       "      <td>EAST SIANG</td>\n",
       "      <td>33.3</td>\n",
       "      <td>79.5</td>\n",
       "      <td>105.9</td>\n",
       "      <td>216.5</td>\n",
       "      <td>323.0</td>\n",
       "      <td>738.3</td>\n",
       "      <td>990.9</td>\n",
       "      <td>711.2</td>\n",
       "      <td>568.0</td>\n",
       "      <td>206.9</td>\n",
       "      <td>29.5</td>\n",
       "      <td>31.7</td>\n",
       "      <td>4034.7</td>\n",
       "    </tr>\n",
       "  </tbody>\n",
       "</table>\n",
       "</div>"
      ],
      "text/plain": [
       "                 STATE_UT_NAME       DISTRICT    JAN   FEB    MAR    APR  \\\n",
       "0  ANDAMAN And NICOBAR ISLANDS        NICOBAR  107.3  57.9   65.2  117.0   \n",
       "1  ANDAMAN And NICOBAR ISLANDS  SOUTH ANDAMAN   43.7  26.0   18.6   90.5   \n",
       "2  ANDAMAN And NICOBAR ISLANDS  N & M ANDAMAN   32.7  15.9    8.6   53.4   \n",
       "3            ARUNACHAL PRADESH          LOHIT   42.2  80.8  176.4  358.5   \n",
       "4            ARUNACHAL PRADESH     EAST SIANG   33.3  79.5  105.9  216.5   \n",
       "\n",
       "     MAY    JUN    JUL    AUG    SEP    OCT    NOV    DEC  ANNUAL  \n",
       "0  358.5  295.5  285.0  271.9  354.8  326.0  315.2  250.9  2805.2  \n",
       "1  374.4  457.2  421.3  423.1  455.6  301.2  275.8  128.3  3015.7  \n",
       "2  343.6  503.3  465.4  460.9  454.8  276.1  198.6  100.0  2913.3  \n",
       "3  306.4  447.0  660.1  427.8  313.6  167.1   34.1   29.8  3043.8  \n",
       "4  323.0  738.3  990.9  711.2  568.0  206.9   29.5   31.7  4034.7  "
      ]
     },
     "execution_count": 100,
     "metadata": {},
     "output_type": "execute_result"
    }
   ],
   "source": [
    "#drop the columns which are not required\n",
    "drop_data = data.drop(['Jan-Feb','Mar-May','Jun-Sep','Oct-Dec'],axis=1)\n",
    "print('Data after dropping the columns which are not required')\n",
    "drop_data.head()\n"
   ]
  },
  {
   "cell_type": "code",
   "execution_count": null,
   "metadata": {},
   "outputs": [],
   "source": [
    "table = pd.pivot_table(drop_data, values='ANNUAL', index=['STATE_UT_NAME'], aggfunc=np.mean)\n",
    "print('Pivot table for average annual rainfall in each state')\n",
    "table"
   ]
  },
  {
   "cell_type": "code",
   "execution_count": 104,
   "metadata": {},
   "outputs": [
    {
     "data": {
      "text/plain": [
       "STATE_UT_NAME\n",
       "ANDAMAN And NICOBAR ISLANDS     3\n",
       "ANDHRA PRADESH                 23\n",
       "ARUNACHAL PRADESH              16\n",
       "ASSAM                          27\n",
       "BIHAR                          38\n",
       "CHANDIGARH                      1\n",
       "CHATISGARH                     18\n",
       "DADAR NAGAR HAVELI              1\n",
       "DAMAN AND DUI                   2\n",
       "DELHI                           9\n",
       "GOA                             2\n",
       "GUJARAT                        26\n",
       "HARYANA                        21\n",
       "HIMACHAL                       12\n",
       "JAMMU AND KASHMIR              22\n",
       "JHARKHAND                      24\n",
       "KARNATAKA                      30\n",
       "KERALA                         14\n",
       "LAKSHADWEEP                     1\n",
       "MADHYA PRADESH                 50\n",
       "MAHARASHTRA                    35\n",
       "MANIPUR                         9\n",
       "MEGHALAYA                       7\n",
       "MIZORAM                         9\n",
       "NAGALAND                       11\n",
       "ORISSA                         30\n",
       "PONDICHERRY                     4\n",
       "PUNJAB                         20\n",
       "RAJASTHAN                      33\n",
       "SIKKIM                          4\n",
       "TAMIL NADU                     32\n",
       "TRIPURA                         4\n",
       "UTTAR PRADESH                  71\n",
       "UTTARANCHAL                    13\n",
       "WEST BENGAL                    19\n",
       "Name: DISTRICT, dtype: int64"
      ]
     },
     "execution_count": 104,
     "metadata": {},
     "output_type": "execute_result"
    }
   ],
   "source": [
    "dis_count = drop_data.groupby('STATE_UT_NAME')['DISTRICT'].count()\n",
    "dis_count"
   ]
  },
  {
   "cell_type": "code",
   "execution_count": null,
   "metadata": {},
   "outputs": [],
   "source": [
    "#District with highest rainfall in may of every state\n",
    "print('District with highest rainfall in may of every state')\n",
    "drop_data.groupby('STATE_UT_NAME')[['DISTRICT','MAY']].apply(lambda x: x.loc[x['MAY'].idxmax()])\n"
   ]
  },
  {
   "attachments": {},
   "cell_type": "markdown",
   "metadata": {},
   "source": [
    "Q2 world alcohol consumption dataset"
   ]
  },
  {
   "cell_type": "code",
   "execution_count": null,
   "metadata": {},
   "outputs": [],
   "source": [
    "data = pd.read_excel('dataset/world_alcohol.xlsx')\n",
    "df_nan = data.dropna()\n",
    "print('data without nan values')\n",
    "df_nan\n",
    "\n"
   ]
  },
  {
   "cell_type": "code",
   "execution_count": null,
   "metadata": {},
   "outputs": [],
   "source": [
    "df_na = data.isna()\n",
    "print('data with nan values')\n",
    "df_na"
   ]
  },
  {
   "cell_type": "code",
   "execution_count": null,
   "metadata": {},
   "outputs": [],
   "source": [
    "new_data = data.dropna()\n",
    "print('data after dropping nan values')\n",
    "new_data"
   ]
  },
  {
   "cell_type": "code",
   "execution_count": null,
   "metadata": {},
   "outputs": [],
   "source": [
    "data_mean = data['Display Value'].mean()\n",
    "print('data after filling nan values with mean')\n",
    "data.fillna(data_mean)"
   ]
  },
  {
   "cell_type": "code",
   "execution_count": null,
   "metadata": {},
   "outputs": [],
   "source": [
    "print('data after filling nan values with 1.5')\n",
    "data['Display Value'].fillna('1.5')"
   ]
  },
  {
   "cell_type": "code",
   "execution_count": null,
   "metadata": {},
   "outputs": [],
   "source": [
    "for i in range(1,len(data),5):\n",
    "    print(data.iloc[i,:],'\\n')\n",
    "\n",
    "# print(data.iloc[1,:])"
   ]
  },
  {
   "cell_type": "code",
   "execution_count": null,
   "metadata": {},
   "outputs": [],
   "source": [
    "renamed_data = data.rename(columns={'Country':'Location'})\n",
    "print('data after renaming the column country into location')\n",
    "renamed_data"
   ]
  },
  {
   "cell_type": "code",
   "execution_count": null,
   "metadata": {},
   "outputs": [],
   "source": [
    "r_data = data.rename(columns={'Year':'Time','WHO region':'continent','Country':'Location','Beverage Types':'Types','Display Value':'Value'})\n",
    "print('data after renaming the all columns')\n",
    "r_data"
   ]
  },
  {
   "cell_type": "code",
   "execution_count": null,
   "metadata": {},
   "outputs": [],
   "source": [
    "f_data = data.filter(regex='[0]',axis=0)\n",
    "print('data after filtering the rows which contains 0 in the end')\n",
    "f_data"
   ]
  },
  {
   "cell_type": "code",
   "execution_count": 156,
   "metadata": {},
   "outputs": [
    {
     "name": "stdout",
     "output_type": "stream",
     "text": [
      "Average consumption of wine where consumption is more than 2\n"
     ]
    },
    {
     "data": {
      "text/plain": [
       "5.006666666666667"
      ]
     },
     "execution_count": 156,
     "metadata": {},
     "output_type": "execute_result"
    }
   ],
   "source": [
    "avg_consumption = data[(data['Beverage Types']=='Wine') & (data['Display Value'] > 2)]\n",
    "print('Average consumption of wine where consumption is more than 2')\n",
    "avg_consumption['Display Value'].mean()"
   ]
  }
 ],
 "metadata": {
  "kernelspec": {
   "display_name": "Python 3",
   "language": "python",
   "name": "python3"
  },
  "language_info": {
   "codemirror_mode": {
    "name": "ipython",
    "version": 3
   },
   "file_extension": ".py",
   "mimetype": "text/x-python",
   "name": "python",
   "nbconvert_exporter": "python",
   "pygments_lexer": "ipython3",
   "version": "3.10.10"
  },
  "orig_nbformat": 4,
  "vscode": {
   "interpreter": {
    "hash": "5620aa1f0b8a8701d2cf5765173384541ddf512cb44308b0e7a570fe2aa55ca9"
   }
  }
 },
 "nbformat": 4,
 "nbformat_minor": 2
}
