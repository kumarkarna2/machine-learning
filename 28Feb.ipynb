{
 "cells": [
  {
   "cell_type": "code",
   "execution_count": 3,
   "metadata": {},
   "outputs": [
    {
     "name": "stdout",
     "output_type": "stream",
     "text": [
      "[[1.         1.11111111 1.22222222 1.33333333 1.44444444 1.55555556\n",
      "  1.66666667 1.77777778 1.88888889 2.        ]\n",
      " [1.         1.11111111 1.22222222 1.33333333 1.44444444 1.55555556\n",
      "  1.66666667 1.77777778 1.88888889 2.        ]\n",
      " [1.         1.11111111 1.22222222 1.33333333 1.44444444 1.55555556\n",
      "  1.66666667 1.77777778 1.88888889 2.        ]\n",
      " [1.         1.11111111 1.22222222 1.33333333 1.44444444 1.55555556\n",
      "  1.66666667 1.77777778 1.88888889 2.        ]\n",
      " [1.         1.11111111 1.22222222 1.33333333 1.44444444 1.55555556\n",
      "  1.66666667 1.77777778 1.88888889 2.        ]\n",
      " [1.         1.11111111 1.22222222 1.33333333 1.44444444 1.55555556\n",
      "  1.66666667 1.77777778 1.88888889 2.        ]\n",
      " [1.         1.11111111 1.22222222 1.33333333 1.44444444 1.55555556\n",
      "  1.66666667 1.77777778 1.88888889 2.        ]\n",
      " [1.         1.11111111 1.22222222 1.33333333 1.44444444 1.55555556\n",
      "  1.66666667 1.77777778 1.88888889 2.        ]\n",
      " [1.         1.11111111 1.22222222 1.33333333 1.44444444 1.55555556\n",
      "  1.66666667 1.77777778 1.88888889 2.        ]\n",
      " [1.         1.11111111 1.22222222 1.33333333 1.44444444 1.55555556\n",
      "  1.66666667 1.77777778 1.88888889 2.        ]]\n",
      "\n",
      "[[1.         1.         1.         1.         1.         1.\n",
      "  1.         1.         1.         1.        ]\n",
      " [1.11111111 1.11111111 1.11111111 1.11111111 1.11111111 1.11111111\n",
      "  1.11111111 1.11111111 1.11111111 1.11111111]\n",
      " [1.22222222 1.22222222 1.22222222 1.22222222 1.22222222 1.22222222\n",
      "  1.22222222 1.22222222 1.22222222 1.22222222]\n",
      " [1.33333333 1.33333333 1.33333333 1.33333333 1.33333333 1.33333333\n",
      "  1.33333333 1.33333333 1.33333333 1.33333333]\n",
      " [1.44444444 1.44444444 1.44444444 1.44444444 1.44444444 1.44444444\n",
      "  1.44444444 1.44444444 1.44444444 1.44444444]\n",
      " [1.55555556 1.55555556 1.55555556 1.55555556 1.55555556 1.55555556\n",
      "  1.55555556 1.55555556 1.55555556 1.55555556]\n",
      " [1.66666667 1.66666667 1.66666667 1.66666667 1.66666667 1.66666667\n",
      "  1.66666667 1.66666667 1.66666667 1.66666667]\n",
      " [1.77777778 1.77777778 1.77777778 1.77777778 1.77777778 1.77777778\n",
      "  1.77777778 1.77777778 1.77777778 1.77777778]\n",
      " [1.88888889 1.88888889 1.88888889 1.88888889 1.88888889 1.88888889\n",
      "  1.88888889 1.88888889 1.88888889 1.88888889]\n",
      " [2.         2.         2.         2.         2.         2.\n",
      "  2.         2.         2.         2.        ]]\n"
     ]
    }
   ],
   "source": [
    "import numpy as np\n",
    "\n",
    "a = np.linspace(1, 2, 10)\n",
    "b=np.linspace(1, 2, 10)\n",
    "\n",
    "xa,xb = np.meshgrid(a,b)\n",
    "\n",
    "print(xa)\n",
    "print()\n",
    "print(xb)"
   ]
  },
  {
   "cell_type": "code",
   "execution_count": null,
   "metadata": {},
   "outputs": [],
   "source": [
    "#importing package for regular expressions\n",
    "import re                                 \n",
    "\n",
    "#import numpy to make matrix and vector computations easier\n",
    "import numpy as np  \n",
    "\n",
    "#import matplotlib.pyplot to visualize the vectors on graphs                      \n",
    "import matplotlib.pyplot as plt          \n",
    "\n",
    "\n",
    "#making empty X_input list for the input vector\n",
    "X_input = []                                    \n",
    "#making empty Y_output list for the output vector\n",
    "Y_output = []                                    \n",
    "\n",
    "#using regular expressions for splitting the data and then substituting it with other values\n",
    "non_dec = re.compile(r'[^\\d]+')       \n",
    "for l in open(\"moore_law.csv\"):\n",
    "    reg = l.split('\\t')\n",
    "    x = int(non_dec.sub('', reg[2].split('[')[0]))\n",
    "    y = int(non_dec.sub('', reg[1].split('[')[0]))\n",
    "    \n",
    "    X_input.append(x)\n",
    "    Y_output.append(y)\n",
    "\n",
    "\n",
    "#converting X_input into numpy array\n",
    "X_input = np.array(X_input) \n",
    "#converting Y_output into numpy array        \n",
    "Y_output = np.array(Y_output)       \n",
    "\n",
    "#making scatter plot of X_input and Y_output to see the relationship between them\n",
    "plt.scatter(X_input, Y_output)      \n",
    "plt.title('Non-linear relationship between transistor count and years')\n",
    "plt.xlabel('Years')\n",
    "plt.ylabel('Transistor count')\n",
    "plt.show()\n",
    "\n",
    "#Since Y_output = a*2^X_input, taking the log of Y_output and then drawing the scatter plot of log(Y_output) and X_input.\n",
    "Y_output = np.log(Y_output)   \n",
    "plt.scatter(X_input, Y_output)\n",
    "plt.title('After taking log, graph turns out to be linear')\n",
    "plt.xlabel('Years')\n",
    "plt.ylabel('log of Transistor count')\n",
    "plt.show()\n",
    "\n",
    "#Calculating m and c and then finding predicted Y or Yhat\n",
    "denominator = X_input.dot(X_input) - X_input.mean()*X_input.sum()       \n",
    "m = (X_input.dot(Y_output)-Y_output.mean()*X_input.sum())/denominator\n",
    "c = (Y_output.mean()*X_input.dot(X_input) - X_input.mean()*X_input.dot(Y_output))/denominator\n",
    "\n",
    "#Calculating Yhat\n",
    "Yhat = m*X_input + c                            \n",
    "\n",
    "plt.scatter(X_input, Y_output)                         \n",
    "plt.plot(X_input, Yhat, color='red')\n",
    "plt.show()\n",
    "\n",
    "#Calculating Rsquare\n",
    "diff1 = Y_output - Yhat                          \n",
    "diff2 = Y_output - Y_output.mean()\n",
    "rsquare = 1 - (diff1.dot(diff1)/diff2.dot(diff2))\n",
    "print(\"m:\", m, \"c:\", c)\n",
    "print(\"The R squared is:\", rsquare)\n",
    "\n",
    "print(\"time to double is \", np.log(2)/m, \"years\")"
   ]
  },
  {
   "cell_type": "code",
   "execution_count": 6,
   "metadata": {},
   "outputs": [
    {
     "name": "stdout",
     "output_type": "stream",
     "text": [
      "[[ 67.+0.j  59.+0.j  98.+0.j]\n",
      " [117.+0.j 890.+0.j 121.+0.j]]\n"
     ]
    }
   ],
   "source": [
    "arr_1 = np.array([25, 56, 12, 85, 34, 75])\n",
    "arr_2 = np.array([42,3,86,32,856,46])\n",
    "\n",
    "\n",
    "arr_1=arr_1.astype('complex')\n",
    "arr_2=arr_2.astype('complex')\n",
    "\n",
    "mat_1 = arr_1.reshape(2,3)\n",
    "mat_2 = arr_2.reshape(2,3)\n",
    "\n",
    "\n",
    "ans =(mat_1 + mat_2)\n",
    "print(ans)"
   ]
  }
 ],
 "metadata": {
  "kernelspec": {
   "display_name": "Python 3",
   "language": "python",
   "name": "python3"
  },
  "language_info": {
   "codemirror_mode": {
    "name": "ipython",
    "version": 3
   },
   "file_extension": ".py",
   "mimetype": "text/x-python",
   "name": "python",
   "nbconvert_exporter": "python",
   "pygments_lexer": "ipython3",
   "version": "3.10.10"
  },
  "orig_nbformat": 4,
  "vscode": {
   "interpreter": {
    "hash": "5620aa1f0b8a8701d2cf5765173384541ddf512cb44308b0e7a570fe2aa55ca9"
   }
  }
 },
 "nbformat": 4,
 "nbformat_minor": 2
}
