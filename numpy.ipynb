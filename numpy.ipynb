{
 "cells": [
  {
   "cell_type": "code",
   "execution_count": 2,
   "metadata": {},
   "outputs": [
    {
     "name": "stdout",
     "output_type": "stream",
     "text": [
      "Dimensions of array:  2\n",
      "Shape of array:  (5, 2)\n",
      "Element size in bytes:  2\n"
     ]
    }
   ],
   "source": [
    "import numpy as np\n",
    "\n",
    "arr = np.uint16([1, 2, 3, 4, 5, 6, 7, 8, 9, 10])\n",
    "arr = arr.reshape(5,2)\n",
    "print('Dimensions of array: ', arr.ndim)\n",
    "print('Shape of array: ', arr.shape)\n",
    "print('Element size in bytes: ', arr.itemsize)\n",
    "\n",
    "\n",
    "\n",
    "\n",
    "\n"
   ]
  },
  {
   "cell_type": "code",
   "execution_count": 3,
   "metadata": {},
   "outputs": [
    {
     "data": {
      "text/plain": [
       "array([[200, 210],\n",
       "       [220, 230],\n",
       "       [240, 250],\n",
       "       [260, 270],\n",
       "       [280, 290]], dtype=uint16)"
      ]
     },
     "execution_count": 3,
     "metadata": {},
     "output_type": "execute_result"
    }
   ],
   "source": [
    "array = np.array([200,210,220,230,240,250,260,270,280,290] ,dtype=np.uint16)\n",
    "array = array.reshape(5,2)\n",
    "array"
   ]
  },
  {
   "cell_type": "code",
   "execution_count": 12,
   "metadata": {},
   "outputs": [
    {
     "name": "stdout",
     "output_type": "stream",
     "text": [
      "Third row of matrix:  [[7 8 9]]\n"
     ]
    }
   ],
   "source": [
    "matrix = np.matrix([[1,2,3],[4,5,6],[7,8,9]])\n",
    "print('Third row of matrix: ', matrix[2,:])"
   ]
  },
  {
   "cell_type": "code",
   "execution_count": 18,
   "metadata": {},
   "outputs": [
    {
     "name": "stdout",
     "output_type": "stream",
     "text": [
      "Array1: \n",
      " [[1 4 6 8]\n",
      " [7 5 9 9]\n",
      " [9 1 3 1]\n",
      " [7 4 8 8]\n",
      " [9 3 7 6]]\n"
     ]
    },
    {
     "data": {
      "text/plain": [
       "array([[4, 8],\n",
       "       [1, 1],\n",
       "       [3, 6]])"
      ]
     },
     "execution_count": 18,
     "metadata": {},
     "output_type": "execute_result"
    }
   ],
   "source": [
    "array1 = np.random.randint(1,10, size=(5,4))\n",
    "print('Array1: \\n', array1)\n",
    "array2 = array1[::2,1::2]\n",
    "array2"
   ]
  },
  {
   "cell_type": "code",
   "execution_count": 23,
   "metadata": {},
   "outputs": [
    {
     "name": "stdout",
     "output_type": "stream",
     "text": [
      "Array: \n",
      " [[6 7 6]\n",
      " [2 9 5]\n",
      " [6 8 3]\n",
      " [2 7 7]\n",
      " [9 3 5]\n",
      " [7 1 3]\n",
      " [9 6 6]\n",
      " [4 5 1]]\n",
      "Array after splitting: \n",
      "\n"
     ]
    },
    {
     "data": {
      "text/plain": [
       "[array([[6, 7, 6],\n",
       "        [2, 9, 5]]),\n",
       " array([[6, 8, 3],\n",
       "        [2, 7, 7]]),\n",
       " array([[9, 3, 5],\n",
       "        [7, 1, 3]]),\n",
       " array([[9, 6, 6],\n",
       "        [4, 5, 1]])]"
      ]
     },
     "execution_count": 23,
     "metadata": {},
     "output_type": "execute_result"
    }
   ],
   "source": [
    "arr = np.random.randint(1,10, size=(8,3))\n",
    "print('Array: \\n', arr)\n",
    "\n",
    "print('Array after splitting: \\n')\n",
    "np.split(arr, 4)\n",
    "\n"
   ]
  },
  {
   "cell_type": "code",
   "execution_count": 40,
   "metadata": {},
   "outputs": [
    {
     "name": "stdout",
     "output_type": "stream",
     "text": [
      "Array after sorting by row: \n",
      "[[17 20 25 23]\n",
      " [14 18 12 16]\n",
      " [12 19 19 28]\n",
      " [15 24 20 26]] \n",
      "\n",
      "Array after sorting by column: \n"
     ]
    },
    {
     "data": {
      "text/plain": [
       "array([[25, 17, 23, 20],\n",
       "       [12, 14, 16, 18],\n",
       "       [19, 12, 28, 19],\n",
       "       [20, 15, 26, 24]])"
      ]
     },
     "execution_count": 40,
     "metadata": {},
     "output_type": "execute_result"
    }
   ],
   "source": [
    "arr = np.random.randint(10,30, size=(4,4))\n",
    "\n",
    "arr1 = arr[:,arr[2,:].argsort()]\n",
    "print('Array after sorting by row: ')\n",
    "print(arr1,'\\n')\n",
    "print('Array after sorting by column: ')\n",
    "arr1[:,arr1[1,:].argsort()]"
   ]
  },
  {
   "cell_type": "code",
   "execution_count": 46,
   "metadata": {},
   "outputs": [
    {
     "data": {
      "text/plain": [
       "array([[ 1,  2, 10],\n",
       "       [ 4,  5, 11],\n",
       "       [ 7,  8, 12]])"
      ]
     },
     "execution_count": 46,
     "metadata": {},
     "output_type": "execute_result"
    }
   ],
   "source": [
    "array = np.array([1,2,3,4,5,6,7,8,9])\n",
    "array = np.reshape(array, (3,3))\n",
    "\n",
    "col = [10,11,12]\n",
    "array[:,2] = col\n",
    "array"
   ]
  }
 ],
 "metadata": {
  "kernelspec": {
   "display_name": "Python 3",
   "language": "python",
   "name": "python3"
  },
  "language_info": {
   "codemirror_mode": {
    "name": "ipython",
    "version": 3
   },
   "file_extension": ".py",
   "mimetype": "text/x-python",
   "name": "python",
   "nbconvert_exporter": "python",
   "pygments_lexer": "ipython3",
   "version": "3.10.10"
  },
  "orig_nbformat": 4,
  "vscode": {
   "interpreter": {
    "hash": "5620aa1f0b8a8701d2cf5765173384541ddf512cb44308b0e7a570fe2aa55ca9"
   }
  }
 },
 "nbformat": 4,
 "nbformat_minor": 2
}
